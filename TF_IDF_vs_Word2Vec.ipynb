{
  "nbformat": 4,
  "nbformat_minor": 0,
  "metadata": {
    "colab": {
      "provenance": []
    },
    "kernelspec": {
      "name": "python3",
      "display_name": "Python 3"
    },
    "language_info": {
      "name": "python"
    }
  },
  "cells": [
    {
      "cell_type": "code",
      "execution_count": null,
      "metadata": {
        "id": "CKLG0vvjKBxQ"
      },
      "outputs": [],
      "source": [
        "import numpy as np\n",
        "import pandas as pd\n",
        "import tensorflow as tf\n",
        "from sklearn.model_selection import train_test_split\n",
        "from sklearn.feature_extraction.text import TfidfVectorizer\n",
        "from sklearn.metrics import accuracy_score\n",
        "from gensim.models import Word2Vec\n",
        "from tensorflow.keras.preprocessing.text import Tokenizer\n",
        "from tensorflow.keras.preprocessing.sequence import pad_sequences\n",
        "import zipfile\n",
        "import requests\n",
        "import io"
      ]
    },
    {
      "cell_type": "code",
      "source": [
        "url = \"https://archive.ics.uci.edu/ml/machine-learning-databases/00228/smsspamcollection.zip\"\n",
        "response = requests.get(url)\n",
        "z = zipfile.ZipFile(io.BytesIO(response.content))"
      ],
      "metadata": {
        "id": "sV5TLHJjKpD4"
      },
      "execution_count": null,
      "outputs": []
    },
    {
      "cell_type": "code",
      "source": [
        "df = pd.read_csv(z.open('SMSSpamCollection'), sep='\\t', names=['label', 'message'])"
      ],
      "metadata": {
        "id": "dthqbCGlM8Rc"
      },
      "execution_count": null,
      "outputs": []
    },
    {
      "cell_type": "code",
      "source": [
        "df['label'] = df['label'].map({'ham': 0, 'spam': 1})\n",
        "texts = df['message'].values\n",
        "labels = df['label'].values"
      ],
      "metadata": {
        "id": "uHOrK-wVNBZX"
      },
      "execution_count": null,
      "outputs": []
    },
    {
      "cell_type": "code",
      "source": [
        "X_train, X_test, y_train, y_test = train_test_split(texts, labels, test_size=0.2, random_state=42)"
      ],
      "metadata": {
        "id": "wkpw7lyjNFI8"
      },
      "execution_count": null,
      "outputs": []
    },
    {
      "cell_type": "code",
      "source": [
        "tfidf_vectorizer = TfidfVectorizer(max_features=5000)\n",
        "X_train_tfidf = tfidf_vectorizer.fit_transform(X_train).toarray()\n",
        "X_test_tfidf = tfidf_vectorizer.transform(X_test).toarray()"
      ],
      "metadata": {
        "id": "_AEGn6izNJCu"
      },
      "execution_count": null,
      "outputs": []
    },
    {
      "cell_type": "code",
      "source": [
        "tokenizer = Tokenizer()\n",
        "tokenizer.fit_on_texts(X_train)\n",
        "X_train_sequences = tokenizer.texts_to_sequences(X_train)\n",
        "X_test_sequences = tokenizer.texts_to_sequences(X_test)\n",
        "word_index = tokenizer.word_index"
      ],
      "metadata": {
        "id": "pN0L6Si8NL22"
      },
      "execution_count": null,
      "outputs": []
    },
    {
      "cell_type": "code",
      "source": [
        "max_len = 100\n",
        "X_train_padded = pad_sequences(X_train_sequences, maxlen=max_len)\n",
        "X_test_padded = pad_sequences(X_test_sequences, maxlen=max_len)"
      ],
      "metadata": {
        "id": "xXOUoczmNPlH"
      },
      "execution_count": null,
      "outputs": []
    },
    {
      "cell_type": "code",
      "source": [
        "w2v_model = Word2Vec(sentences=[text.split() for text in X_train], vector_size=100, window=5, min_count=1, workers=4)\n",
        "embedding_matrix = np.zeros((len(word_index) + 1, 100))\n",
        "for word, i in word_index.items():\n",
        "    if word in w2v_model.wv:\n",
        "        embedding_matrix[i] = w2v_model.wv[word]"
      ],
      "metadata": {
        "id": "uI0bgIUBNSv4"
      },
      "execution_count": null,
      "outputs": []
    },
    {
      "cell_type": "code",
      "source": [
        "def create_model(input_dim, embedding_matrix=None, use_embedding=False):\n",
        "    model = tf.keras.Sequential()\n",
        "    if use_embedding:\n",
        "        model.add(tf.keras.layers.Embedding(input_dim=len(word_index) + 1,\n",
        "                                            output_dim=100,\n",
        "                                            weights=[embedding_matrix],\n",
        "                                            input_length=max_len,\n",
        "                                            trainable=False))\n",
        "        model.add(tf.keras.layers.GlobalAveragePooling1D())\n",
        "    else:\n",
        "        model.add(tf.keras.layers.Dense(128, input_dim=input_dim, activation='relu'))\n",
        "    model.add(tf.keras.layers.Dense(64, activation='relu'))\n",
        "    model.add(tf.keras.layers.Dense(1, activation='sigmoid'))\n",
        "    model.compile(loss='binary_crossentropy', optimizer='adam', metrics=['accuracy'])\n",
        "    return model"
      ],
      "metadata": {
        "id": "mo6aMU2BNVue"
      },
      "execution_count": null,
      "outputs": []
    },
    {
      "cell_type": "code",
      "source": [
        "tfidf_model = create_model(input_dim=X_train_tfidf.shape[1])\n",
        "tfidf_model.fit(X_train_tfidf, y_train, epochs=10, batch_size=32, validation_data=(X_test_tfidf, y_test), verbose=2)"
      ],
      "metadata": {
        "colab": {
          "base_uri": "https://localhost:8080/"
        },
        "id": "yfqxIUDWNY0K",
        "outputId": "331299ad-b55b-4714-fa5c-d0f1caf7ae34"
      },
      "execution_count": null,
      "outputs": [
        {
          "output_type": "stream",
          "name": "stderr",
          "text": [
            "/usr/local/lib/python3.10/dist-packages/keras/src/layers/core/dense.py:87: UserWarning: Do not pass an `input_shape`/`input_dim` argument to a layer. When using Sequential models, prefer using an `Input(shape)` object as the first layer in the model instead.\n",
            "  super().__init__(activity_regularizer=activity_regularizer, **kwargs)\n"
          ]
        },
        {
          "output_type": "stream",
          "name": "stdout",
          "text": [
            "Epoch 1/10\n",
            "140/140 - 5s - 32ms/step - accuracy: 0.9071 - loss: 0.2561 - val_accuracy: 0.9865 - val_loss: 0.0820\n",
            "Epoch 2/10\n",
            "140/140 - 3s - 18ms/step - accuracy: 0.9912 - loss: 0.0333 - val_accuracy: 0.9857 - val_loss: 0.0544\n",
            "Epoch 3/10\n",
            "140/140 - 4s - 31ms/step - accuracy: 0.9982 - loss: 0.0075 - val_accuracy: 0.9892 - val_loss: 0.0517\n",
            "Epoch 4/10\n",
            "140/140 - 2s - 14ms/step - accuracy: 0.9993 - loss: 0.0032 - val_accuracy: 0.9901 - val_loss: 0.0568\n",
            "Epoch 5/10\n",
            "140/140 - 3s - 22ms/step - accuracy: 0.9998 - loss: 0.0018 - val_accuracy: 0.9910 - val_loss: 0.0595\n",
            "Epoch 6/10\n",
            "140/140 - 3s - 23ms/step - accuracy: 0.9998 - loss: 0.0015 - val_accuracy: 0.9910 - val_loss: 0.0617\n",
            "Epoch 7/10\n",
            "140/140 - 2s - 17ms/step - accuracy: 0.9998 - loss: 0.0013 - val_accuracy: 0.9865 - val_loss: 0.0650\n",
            "Epoch 8/10\n",
            "140/140 - 2s - 18ms/step - accuracy: 0.9998 - loss: 0.0012 - val_accuracy: 0.9857 - val_loss: 0.0673\n",
            "Epoch 9/10\n",
            "140/140 - 2s - 15ms/step - accuracy: 0.9998 - loss: 0.0011 - val_accuracy: 0.9901 - val_loss: 0.0676\n",
            "Epoch 10/10\n",
            "140/140 - 2s - 11ms/step - accuracy: 0.9998 - loss: 0.0010 - val_accuracy: 0.9901 - val_loss: 0.0691\n"
          ]
        },
        {
          "output_type": "execute_result",
          "data": {
            "text/plain": [
              "<keras.src.callbacks.history.History at 0x7ac900a75b40>"
            ]
          },
          "metadata": {},
          "execution_count": 13
        }
      ]
    },
    {
      "cell_type": "code",
      "source": [
        "embedding_model = create_model(input_dim=len(word_index) + 1, embedding_matrix=embedding_matrix, use_embedding=True)\n",
        "embedding_model.fit(X_train_padded, y_train, epochs=10, batch_size=32, validation_data=(X_test_padded, y_test), verbose=2)"
      ],
      "metadata": {
        "colab": {
          "base_uri": "https://localhost:8080/"
        },
        "id": "EgBpWMq2Nbow",
        "outputId": "17010387-1960-499c-d951-d520d350809e"
      },
      "execution_count": null,
      "outputs": [
        {
          "output_type": "stream",
          "name": "stdout",
          "text": [
            "Epoch 1/10\n"
          ]
        },
        {
          "output_type": "stream",
          "name": "stderr",
          "text": [
            "/usr/local/lib/python3.10/dist-packages/keras/src/layers/core/embedding.py:90: UserWarning: Argument `input_length` is deprecated. Just remove it.\n",
            "  warnings.warn(\n"
          ]
        },
        {
          "output_type": "stream",
          "name": "stdout",
          "text": [
            "140/140 - 2s - 12ms/step - accuracy: 0.8658 - loss: 0.5229 - val_accuracy: 0.8664 - val_loss: 0.4566\n",
            "Epoch 2/10\n",
            "140/140 - 0s - 3ms/step - accuracy: 0.8658 - loss: 0.4136 - val_accuracy: 0.8664 - val_loss: 0.3774\n",
            "Epoch 3/10\n",
            "140/140 - 1s - 5ms/step - accuracy: 0.8658 - loss: 0.3642 - val_accuracy: 0.8664 - val_loss: 0.3495\n",
            "Epoch 4/10\n",
            "140/140 - 1s - 5ms/step - accuracy: 0.8658 - loss: 0.3481 - val_accuracy: 0.8664 - val_loss: 0.3432\n",
            "Epoch 5/10\n",
            "140/140 - 1s - 5ms/step - accuracy: 0.8658 - loss: 0.3429 - val_accuracy: 0.8664 - val_loss: 0.3379\n",
            "Epoch 6/10\n",
            "140/140 - 1s - 9ms/step - accuracy: 0.8658 - loss: 0.3406 - val_accuracy: 0.8664 - val_loss: 0.3352\n",
            "Epoch 7/10\n",
            "140/140 - 0s - 3ms/step - accuracy: 0.8658 - loss: 0.3388 - val_accuracy: 0.8664 - val_loss: 0.3336\n",
            "Epoch 8/10\n",
            "140/140 - 0s - 3ms/step - accuracy: 0.8658 - loss: 0.3383 - val_accuracy: 0.8664 - val_loss: 0.3327\n",
            "Epoch 9/10\n",
            "140/140 - 0s - 2ms/step - accuracy: 0.8658 - loss: 0.3372 - val_accuracy: 0.8664 - val_loss: 0.3325\n",
            "Epoch 10/10\n",
            "140/140 - 1s - 4ms/step - accuracy: 0.8658 - loss: 0.3368 - val_accuracy: 0.8664 - val_loss: 0.3325\n"
          ]
        },
        {
          "output_type": "execute_result",
          "data": {
            "text/plain": [
              "<keras.src.callbacks.history.History at 0x7ac911d544c0>"
            ]
          },
          "metadata": {},
          "execution_count": 14
        }
      ]
    },
    {
      "cell_type": "code",
      "source": [
        "tfidf_pred = tfidf_model.predict(X_test_tfidf)\n",
        "embedding_pred = embedding_model.predict(X_test_padded)"
      ],
      "metadata": {
        "colab": {
          "base_uri": "https://localhost:8080/"
        },
        "id": "wWx3iw1dNebU",
        "outputId": "9954a84b-a8fd-425b-9c02-ea8debf83f28"
      },
      "execution_count": null,
      "outputs": [
        {
          "output_type": "stream",
          "name": "stdout",
          "text": [
            "\u001b[1m35/35\u001b[0m \u001b[32m━━━━━━━━━━━━━━━━━━━━\u001b[0m\u001b[37m\u001b[0m \u001b[1m0s\u001b[0m 4ms/step\n",
            "\u001b[1m35/35\u001b[0m \u001b[32m━━━━━━━━━━━━━━━━━━━━\u001b[0m\u001b[37m\u001b[0m \u001b[1m0s\u001b[0m 3ms/step\n"
          ]
        }
      ]
    },
    {
      "cell_type": "code",
      "source": [
        "tfidf_acc = accuracy_score(y_test, (tfidf_pred > 0.5).astype(int))\n",
        "embedding_acc = accuracy_score(y_test, (embedding_pred > 0.5).astype(int))"
      ],
      "metadata": {
        "id": "4OYvANg9Ng0l"
      },
      "execution_count": null,
      "outputs": []
    },
    {
      "cell_type": "code",
      "source": [
        "print(f\"TF-IDF Model Accuracy: {tfidf_acc * 100:.2f}%\")\n",
        "print(f\"Word2Vec Model Accuracy: {embedding_acc * 100:.2f}%\")"
      ],
      "metadata": {
        "id": "IDzHljgLNm4h",
        "outputId": "e74f5581-c7d9-444b-cc79-e3f6484f2755",
        "colab": {
          "base_uri": "https://localhost:8080/"
        }
      },
      "execution_count": null,
      "outputs": [
        {
          "output_type": "stream",
          "name": "stdout",
          "text": [
            "TF-IDF Model Accuracy: 99.01%\n",
            "Word2Vec Model Accuracy: 86.64%\n"
          ]
        }
      ]
    },
    {
      "cell_type": "code",
      "source": [],
      "metadata": {
        "id": "Qj6X7a3LNnle"
      },
      "execution_count": null,
      "outputs": []
    }
  ]
}